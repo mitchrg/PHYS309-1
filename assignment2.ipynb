{
  "cells": [
    {
      "cell_type": "code",
      "execution_count": 1,
      "id": "48645757",
      "metadata": {
        "id": "48645757"
      },
      "outputs": [],
      "source": [
        "import numpy as np\n",
        "import matplotlib.pyplot as plt\n",
        "from scipy import constants\n",
        "\n",
        "plt.rcParams.update({\"font.size\":16, \"axes.labelsize\":16, \"font.family\":\"sans-serif\", \n",
        "                     \"font.sans-serif\":\"Arial\"})"
      ]
    },
    {
      "cell_type": "markdown",
      "id": "c34cca74",
      "metadata": {
        "id": "c34cca74"
      },
      "source": [
        "Recall that in PHYS 207, you were often asked to plot displacement as a function of time. For example, for a baseball thrown directly upward you would plot $y(t)$, and for a block on a horizontal spring you would plot $x(t)$. Here we will examine how the displacement and time axes \"scissor together\" at relativistic speeds.\n",
        "\n",
        "Imagine that frame $K^{\\prime}$ is moving in the $+x$ direction at speed $v$ relative to frame $K$. You are at rest in frame $K$. Let's figure out how the set of $(t^{\\prime},x^{\\prime})$ axes would look to you when the frames' origins $O$ and $O^{\\prime}$ coincide.\n",
        "\n",
        "<ol>\n",
        "    <li>Use the fact that $x^{\\prime} = 0$ on the $t^{\\prime}$ axis to define a line $x(t)$ in frame $K$ that follows the $t^{\\prime}$ axis. Write a function that computes points on the line. $v$ will be one of your function inputs.</li>\n",
        "</ol>"
      ]
    },
    {
      "cell_type": "code",
      "execution_count": 6,
      "id": "c5fcb88d",
      "metadata": {
        "colab": {
          "base_uri": "https://localhost:8080/",
          "height": 306
        },
        "id": "c5fcb88d",
        "outputId": "5935e7d7-9c09-4064-bbda-8080f73067f3"
      },
      "outputs": [
        {
          "output_type": "execute_result",
          "data": {
            "text/plain": [
              "[<matplotlib.lines.Line2D at 0x7f223415e1f0>]"
            ]
          },
          "metadata": {},
          "execution_count": 6
        },
        {
          "output_type": "display_data",
          "data": {
            "text/plain": [
              "<Figure size 432x288 with 1 Axes>"
            ],
            "image/png": "[encoded data removed]"
          },
          "metadata": {
            "needs_background": "light"
          }
        }
      ],
      "source": [
        "# the new t' axis in frame K\n",
        "# time is moving much slower (y axis less than x axis)\n",
        "c = constants.c\n",
        "\n",
        "t = np.linspace(0, 200, num=201, endpoint=True) - 100\n",
        "\n",
        "\n",
        "def t_prime(v, t_still):\n",
        "    for i in range(len(t_still)):\n",
        "        gamma = 1 / np.sqrt(1-(v/c)**2)\n",
        "        t_still[i] = gamma*t_still[i]\n",
        "    return t_still\n",
        "\n",
        "\n",
        "\n",
        "plt.plot(t*c,t_prime(.2*c, t), 'r--')\n"
      ]
    },
    {
      "cell_type": "markdown",
      "id": "6c011185",
      "metadata": {
        "id": "6c011185"
      },
      "source": [
        "<ol start=2>\n",
        "    <li>Use the fact that $t^{\\prime} = 0$ on the $x^{\\prime}$ axis to define a line $x(t)$ that traces the $x^{\\prime}$ axis in frame $K$. Write a second function that computes points on this line.</li>\n",
        "</ol>"
      ]
    },
    {
      "cell_type": "code",
      "execution_count": 12,
      "id": "b7d97ab8",
      "metadata": {
        "colab": {
          "base_uri": "https://localhost:8080/",
          "height": 321
        },
        "id": "b7d97ab8",
        "outputId": "8027f6ce-c681-430a-8359-debb21291f6d"
      },
      "outputs": [
        {
          "output_type": "execute_result",
          "data": {
            "text/plain": [
              "[<matplotlib.lines.Line2D at 0x7f220f424d90>]"
            ]
          },
          "metadata": {},
          "execution_count": 12
        },
        {
          "output_type": "display_data",
          "data": {
            "text/plain": [
              "<Figure size 432x288 with 1 Axes>"
            ],
            "image/png": "[encoded data removed]"
          },
          "metadata": {
            "needs_background": "light"
          }
        }
      ],
      "source": [
        "# needs to be a fucntion of t, not x\n",
        "\n",
        "\n",
        "t = np.linspace(0, 200, num=201, endpoint=True) - 100\n",
        "\n",
        "def x_prime(v, t):\n",
        "    for i in range(len(t)):\n",
        "        gamma = 1 / np.sqrt(1-(v/c)**2)\n",
        "        t[i] = t[i]*gamma*v*(1-c)\n",
        "    return t\n",
        "\n",
        "\n",
        "\n",
        "plt.plot(c*t,x_prime(.2*c,t), 'b--')"
      ]
    },
    {
      "cell_type": "markdown",
      "id": "b88dc68a",
      "metadata": {
        "id": "b88dc68a"
      },
      "source": [
        "<ol start=3>\n",
        "    <li>The code below creates a figure with centered $(ct,x)$ axes that have range $(-10^{10}, 10^{10})$. We are using $ct$ instead of just $t$ on our horizontal axis so that both axes have the same units. Use your functions from problems 1 and 2 to overplot the $t^{\\prime}$ and $x^{\\prime}$ axes <strong>as a function of $ct$</strong> for $v = 0.2c$. Make your $t^{\\prime}$ and $x^{\\prime}$ axes red, and label them in red.</li>\n",
        "</ol>"
      ]
    },
    {
      "cell_type": "code",
      "execution_count": 14,
      "id": "a7779487",
      "metadata": {
        "colab": {
          "base_uri": "https://localhost:8080/",
          "height": 453
        },
        "id": "a7779487",
        "outputId": "611bdeb9-93c4-4528-eaa3-e8aca1f39ccb"
      },
      "outputs": [
        {
          "output_type": "stream",
          "name": "stderr",
          "text": [
            "WARNING:matplotlib.legend:No handles with labels found to put in legend.\n"
          ]
        },
        {
          "output_type": "display_data",
          "data": {
            "text/plain": [
              "<Figure size 504x504 with 1 Axes>"
            ],
            "image/png": "[encoded data removed]"
          },
          "metadata": {
            "needs_background": "light"
          }
        }
      ],
      "source": [
        "# Set up an array of independent variables t that spans -100 to 100 seconds\n",
        "t = np.linspace(0, 200, num=201, endpoint=True) - 100\n",
        "\n",
        "# Make a figure\n",
        "fig, ax = plt.subplots(figsize=(7,7))\n",
        "\n",
        "# YOUR CODE HERE: Use ax.plot() to plot the t' and x' axes below\n",
        "#Plotting the t' axis\n",
        "\n",
        "ax.plot(c*t,c*t_prime(.2*c, t), 'r--')\n",
        "\n",
        "#Plotting the x' axis\n",
        "\n",
        "ax.plot(c*t,c*x_prime(.2*c,t), 'b--')\n",
        "\n",
        "# Move the left and bottom \"spines\" (borders of the plot) to the center\n",
        "# This makes a math textbook-like set of (x,t) axes instead of a box around the plot\n",
        "ax.spines['left'].set_position(('data', 0))\n",
        "ax.spines['bottom'].set_position(('data', 0))\n",
        "\n",
        "# Take out the top and right spines\n",
        "ax.spines['right'].set_visible(False)\n",
        "ax.spines['top'].set_visible(False)\n",
        "\n",
        "# Make the two axes have the same scale\n",
        "ax.set_aspect('equal')\n",
        "\n",
        "# Set the axes ranges\n",
        "ax.set_xlim([-1e10, 1e10])\n",
        "ax.set_ylim([-1e10, 1e10])\n",
        "\n",
        "# YOUR CODE HERE: Use ax.text() to add RED labels to the t' and x' axes below\n",
        "\n",
        "plt.legend()\n",
        "plt.show()"
      ]
    },
    {
      "cell_type": "markdown",
      "id": "f9a061e5",
      "metadata": {
        "id": "f9a061e5"
      },
      "source": [
        "<ol start=4>\n",
        "    <li>Make a figure that plots $t^{\\prime}$ and $x^{\\prime}$ axes for $v = 0.25c$, $v = 0.5c$, and $v = 0.75c$. Use different colors for each pair of axes. Make a legend that shows which value of $v$ corresponds to each color.</li>\n",
        "</ol>"
      ]
    },
    {
      "cell_type": "code",
      "execution_count": null,
      "id": "5e941527",
      "metadata": {
        "id": "5e941527"
      },
      "outputs": [],
      "source": [
        "# Set up an array of independent variables t that spans -100 to 100 seconds\n",
        "t = np.linspace(0, 200, num=201, endpoint=True) - 100\n",
        "\n",
        "# Make a figure\n",
        "fig, ax = plt.subplots(figsize=(7,7))\n",
        "\n",
        "# YOUR CODE HERE: Use ax.plot() to plot the t' and x' axes below\n",
        "#Plotting the t' axis\n",
        "\n",
        "ax.plot(c*t,c*t_prime(.2*c, t), 'r--')\n",
        "\n",
        "#Plotting the x' axis\n",
        "\n",
        "ax.plot(c*t,c*x_prime(.2*c,t), 'b--')\n",
        "\n",
        "# Move the left and bottom \"spines\" (borders of the plot) to the center\n",
        "# This makes a math textbook-like set of (x,t) axes instead of a box around the plot\n",
        "ax.spines['left'].set_position(('data', 0))\n",
        "ax.spines['bottom'].set_position(('data', 0))\n",
        "\n",
        "# Take out the top and right spines\n",
        "ax.spines['right'].set_visible(False)\n",
        "ax.spines['top'].set_visible(False)\n",
        "\n",
        "# Make the two axes have the same scale\n",
        "ax.set_aspect('equal')\n",
        "\n",
        "# Set the axes ranges\n",
        "ax.set_xlim([-1e10, 1e10])\n",
        "ax.set_ylim([-1e10, 1e10])\n",
        "\n",
        "# YOUR CODE HERE: Use ax.text() to add RED labels to the t' and x' axes below\n",
        "\n",
        "plt.legend()\n",
        "plt.show()"
      ]
    },
    {
      "cell_type": "markdown",
      "id": "5a0a5c06",
      "metadata": {
        "id": "5a0a5c06"
      },
      "source": [
        "<ol start=5>\n",
        "    <li>Connect your graph from problem 4 with the discussion of world lines in Chapter 2 of your textbook. What kind of world line do your $(t^{\\prime}, x^{\\prime})$ axes approach as $v \\rightarrow c$? Create a similar plot to problem 4, but this time plot $(t^{\\prime}, x^{\\prime})$ axes for $v = 0.5, 0.75, 0.875, 0.9375$. To illustrate the concept of taking a limit as $v \\rightarrow c$, make each set of $(t^{\\prime}, x^{\\prime})$ axes a successively darker shade of gray. Plot the limiting world line in black. Add a legend to show which value of $v$ corresponds to which shade of gray. You may find it helpful to specify line colors like this: <tt>color='0.7'</tt>.</li>\n",
        "</ol>"
      ]
    },
    {
      "cell_type": "code",
      "execution_count": null,
      "id": "c43116f3",
      "metadata": {
        "id": "c43116f3"
      },
      "outputs": [],
      "source": [
        "# Plot here"
      ]
    }
  ],
  "metadata": {
    "kernelspec": {
      "display_name": "Python 3",
      "language": "python",
      "name": "python3"
    },
    "language_info": {
      "codemirror_mode": {
        "name": "ipython",
        "version": 3
      },
      "file_extension": ".py",
      "mimetype": "text/x-python",
      "name": "python",
      "nbconvert_exporter": "python",
      "pygments_lexer": "ipython3",
      "version": "3.8.8"
    },
    "colab": {
      "provenance": []
    }
  },
  "nbformat": 4,
  "nbformat_minor": 5
}